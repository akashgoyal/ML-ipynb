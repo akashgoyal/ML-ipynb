{
 "cells": [
  {
   "cell_type": "code",
   "execution_count": 1,
   "metadata": {},
   "outputs": [
    {
     "name": "stdout",
     "output_type": "stream",
     "text": [
      "No. of rows : 55500 , No. of columns : 15\n"
     ]
    }
   ],
   "source": [
    "import time as t\n",
    "import pandas as pd\n",
    "\n",
    "df = pd.read_csv(\"../../CRM_Bot/agent1/wiki_data/healthcare_dataset.csv\")\n",
    "print(f\"No. of rows : {len(df)} , No. of columns : {len(df.columns)}\")"
   ]
  },
  {
   "cell_type": "markdown",
   "metadata": {},
   "source": [
    "### observing full dataframe iteration time - Row Wise and Column Wise"
   ]
  },
  {
   "cell_type": "code",
   "execution_count": 23,
   "metadata": {},
   "outputs": [
    {
     "name": "stdout",
     "output_type": "stream",
     "text": [
      "Column Wise - count : 832500, Time Taken : 0.20729827880859375 seconds\n"
     ]
    }
   ],
   "source": [
    "# iterate entire df - column by column\n",
    "count_elem = 0\n",
    "\n",
    "start_time = t.time()\n",
    "for col in df.columns:\n",
    "    for elem in df[col]:\n",
    "        count_elem += 1\n",
    "\n",
    "print(f\"Column Wise - count : {count_elem}, Time Taken : {t.time()-start_time} seconds\")"
   ]
  },
  {
   "cell_type": "code",
   "execution_count": 3,
   "metadata": {},
   "outputs": [
    {
     "name": "stdout",
     "output_type": "stream",
     "text": [
      "Row Wise - count : 832500, Time Taken : 5.384983062744141 seconds\n"
     ]
    }
   ],
   "source": [
    "# iterate entire df - row by row\n",
    "count_elem = 0\n",
    "num_rows = len(df)\n",
    "\n",
    "start_time = t.time()\n",
    "for i in range(num_rows):\n",
    "    row = df.iloc[i]\n",
    "    for elem in row:\n",
    "        count_elem += 1\n",
    "\n",
    "print(f\"Row Wise - count : {count_elem}, Time Taken : {t.time()-start_time} seconds\")"
   ]
  },
  {
   "cell_type": "code",
   "execution_count": 43,
   "metadata": {},
   "outputs": [
    {
     "name": "stdout",
     "output_type": "stream",
     "text": [
      "Row Wise - count : 832500, Time Taken : 0.2888457775115967 seconds\n"
     ]
    }
   ],
   "source": [
    "# iterate entire df - row by row\n",
    "count_elem = 0\n",
    "num_rows = len(df)\n",
    "\n",
    "start_time = t.time()\n",
    "for row in df.itertuples(index=False):\n",
    "    for elem in row:\n",
    "        count_elem += 1\n",
    "\n",
    "print(f\"Row Wise - count : {count_elem}, Time Taken : {t.time()-start_time} seconds\")"
   ]
  }
 ],
 "metadata": {
  "kernelspec": {
   "display_name": "py310",
   "language": "python",
   "name": "python3"
  },
  "language_info": {
   "codemirror_mode": {
    "name": "ipython",
    "version": 3
   },
   "file_extension": ".py",
   "mimetype": "text/x-python",
   "name": "python",
   "nbconvert_exporter": "python",
   "pygments_lexer": "ipython3",
   "version": "3.10.15"
  }
 },
 "nbformat": 4,
 "nbformat_minor": 2
}
