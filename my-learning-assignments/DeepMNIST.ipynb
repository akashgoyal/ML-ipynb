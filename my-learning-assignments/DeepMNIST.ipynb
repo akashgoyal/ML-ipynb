{
 "cells": [
  {
   "cell_type": "code",
   "execution_count": 1,
   "metadata": {},
   "outputs": [],
   "source": [
    "#\n",
    "#   DeepMNIST.py \n",
    "#   Deep NN to classify handwritten digits from MNIST dataset\n",
    "#"
   ]
  },
  {
   "cell_type": "code",
   "execution_count": 2,
   "metadata": {},
   "outputs": [],
   "source": [
    "import tensorflow as tf\n",
    "from tensorflow.examples.tutorials.mnist import input_data"
   ]
  },
  {
   "cell_type": "code",
   "execution_count": 3,
   "metadata": {},
   "outputs": [
    {
     "name": "stdout",
     "output_type": "stream",
     "text": [
      "Extracting MNIST_data/train-images-idx3-ubyte.gz\n",
      "Extracting MNIST_data/train-labels-idx1-ubyte.gz\n",
      "Extracting MNIST_data/t10k-images-idx3-ubyte.gz\n",
      "Extracting MNIST_data/t10k-labels-idx1-ubyte.gz\n"
     ]
    }
   ],
   "source": [
    "# Create input object which reads data from MNIST datasets.  Perform one-hot encoding to define the digit\n",
    "mnist = input_data.read_data_sets(\"MNIST_data/\", one_hot=True)"
   ]
  },
  {
   "cell_type": "code",
   "execution_count": 4,
   "metadata": {},
   "outputs": [],
   "source": [
    "# Using Interactive session makes it the default sessions so we do not need to pass sess\n",
    "sess = tf.InteractiveSession()"
   ]
  },
  {
   "cell_type": "code",
   "execution_count": 5,
   "metadata": {},
   "outputs": [],
   "source": [
    "# Define placeholders for MNIST input data\n",
    "x = tf.placeholder(tf.float32, shape=[None, 784])\n",
    "y_ = tf.placeholder(tf.float32, [None, 10])"
   ]
  },
  {
   "cell_type": "code",
   "execution_count": 6,
   "metadata": {},
   "outputs": [],
   "source": [
    "# change the MNIST input data from a list of values to a 28 pixel X 28 pixel X 1 grayscale value cube\n",
    "#    which the Convolution NN can use.\n",
    "x_image = tf.reshape(x, [-1,28,28,1], name=\"x_image\")"
   ]
  },
  {
   "cell_type": "code",
   "execution_count": 7,
   "metadata": {},
   "outputs": [],
   "source": [
    "# Define helper functions to create weights and baises variables, and convolution, and pooling layers\n",
    "#   We are using RELU as our activation function.  These must be initialized to a small positive number \n",
    "#   and with some noise so you don't end up going to zero when comparing diffs\n",
    "def weight_variable(shape):\n",
    "    initial = tf.truncated_normal(shape, stddev=0.1)\n",
    "    return tf.Variable(initial)\n",
    "\n",
    "def bias_variable(shape):\n",
    "    initial = tf.constant(0.1, shape=shape)\n",
    "    return tf.Variable(initial)\n",
    "\n",
    "#   Convolution and Pooling - we do Convolution, and then pooling to control overfitting\n",
    "def conv2d(x, W):\n",
    "    return tf.nn.conv2d(x, W, strides=[1, 1, 1, 1], padding='SAME')\n",
    "\n",
    "def max_pool_2x2(x):\n",
    "    return tf.nn.max_pool(x, ksize=[1, 2, 2, 1],\n",
    "                        strides=[1, 2, 2, 1], padding='SAME')"
   ]
  },
  {
   "cell_type": "code",
   "execution_count": 8,
   "metadata": {},
   "outputs": [],
   "source": [
    "# Define layers in the NN\n",
    "\n",
    "# 1st Convolution layer\n",
    "# 32 features for each 5X5 patch of the image\n",
    "W_conv1 = weight_variable([5, 5, 1, 32])\n",
    "b_conv1 = bias_variable([32])\n",
    "# Do convolution on images, add bias and push through RELU activation\n",
    "h_conv1 = tf.nn.relu(conv2d(x_image, W_conv1) + b_conv1)\n",
    "# take results and run through max_pool\n",
    "h_pool1 = max_pool_2x2(h_conv1)\n",
    "\n",
    "# 2nd Convolution layer\n",
    "# Process the 32 features from Convolution layer 1, in 5 X 5 patch.  Return 64 features weights and biases\n",
    "W_conv2 = weight_variable([5, 5, 32, 64])\n",
    "b_conv2 = bias_variable([64])\n",
    "# Do convolution of the output of the 1st convolution layer.  Pool results \n",
    "h_conv2 = tf.nn.relu(conv2d(h_pool1, W_conv2) + b_conv2)\n",
    "h_pool2 = max_pool_2x2(h_conv2)\n",
    "\n",
    "# Fully Connected Layer\n",
    "W_fc1 = weight_variable([7 * 7 * 64, 1024])\n",
    "b_fc1 = bias_variable([1024])\n",
    "\n",
    "#   Connect output of pooling layer 2 as input to full connected layer\n",
    "h_pool2_flat = tf.reshape(h_pool2, [-1, 7*7*64])\n",
    "h_fc1 = tf.nn.relu(tf.matmul(h_pool2_flat, W_fc1) + b_fc1)"
   ]
  },
  {
   "cell_type": "code",
   "execution_count": 9,
   "metadata": {},
   "outputs": [],
   "source": [
    "# dropout some neurons to reduce overfitting\n",
    "keep_prob = tf.placeholder(tf.float32)  # get dropout probability as a training input.\n",
    "h_fc1_drop = tf.nn.dropout(h_fc1, keep_prob)"
   ]
  },
  {
   "cell_type": "code",
   "execution_count": 10,
   "metadata": {},
   "outputs": [],
   "source": [
    "# Readout layer\n",
    "W_fc2 = weight_variable([1024, 10])\n",
    "b_fc2 = bias_variable([10])"
   ]
  },
  {
   "cell_type": "code",
   "execution_count": 11,
   "metadata": {},
   "outputs": [],
   "source": [
    "# Define model\n",
    "y_conv = tf.matmul(h_fc1_drop, W_fc2) + b_fc2"
   ]
  },
  {
   "cell_type": "code",
   "execution_count": 12,
   "metadata": {},
   "outputs": [],
   "source": [
    "# Loss measurement\n",
    "#cross_entropy = tf.reduce_mean(tf.nn.softmax_cross_entropy_with_logits(logits=y_conv, labels=y_))\n",
    "cross_entropy = tf.reduce_mean(tf.nn.softmax_cross_entropy_with_logits_v2(logits=y_conv, labels=y_))\n",
    "\n",
    "# loss optimization\n",
    "train_step = tf.train.AdamOptimizer(1e-4).minimize(cross_entropy)"
   ]
  },
  {
   "cell_type": "code",
   "execution_count": 13,
   "metadata": {},
   "outputs": [],
   "source": [
    "# What is correct\n",
    "correct_prediction = tf.equal(tf.argmax(y_conv,1), tf.argmax(y_,1))\n",
    "# How accurate is it?\n",
    "accuracy = tf.reduce_mean(tf.cast(correct_prediction, tf.float32))"
   ]
  },
  {
   "cell_type": "code",
   "execution_count": 14,
   "metadata": {},
   "outputs": [],
   "source": [
    "# Initialize all of the variables\n",
    "sess.run(tf.global_variables_initializer())"
   ]
  },
  {
   "cell_type": "code",
   "execution_count": 15,
   "metadata": {},
   "outputs": [
    {
     "name": "stdout",
     "output_type": "stream",
     "text": [
      "step 0, elapsed time 2.54 seconds, training accuracy 8.000%\n",
      "step 100, elapsed time 18.47 seconds, training accuracy 82.000%\n",
      "step 200, elapsed time 34.92 seconds, training accuracy 92.000%\n",
      "step 300, elapsed time 51.14 seconds, training accuracy 94.000%\n",
      "step 400, elapsed time 67.01 seconds, training accuracy 96.000%\n",
      "step 500, elapsed time 82.93 seconds, training accuracy 98.000%\n",
      "step 600, elapsed time 98.81 seconds, training accuracy 90.000%\n",
      "step 700, elapsed time 114.90 seconds, training accuracy 100.000%\n",
      "step 800, elapsed time 130.71 seconds, training accuracy 94.000%\n",
      "step 900, elapsed time 147.18 seconds, training accuracy 94.000%\n",
      "step 1000, elapsed time 163.49 seconds, training accuracy 100.000%\n",
      "step 1100, elapsed time 179.73 seconds, training accuracy 98.000%\n",
      "step 1200, elapsed time 196.06 seconds, training accuracy 98.000%\n",
      "step 1300, elapsed time 212.00 seconds, training accuracy 94.000%\n",
      "step 1400, elapsed time 228.30 seconds, training accuracy 100.000%\n",
      "step 1500, elapsed time 244.78 seconds, training accuracy 96.000%\n",
      "step 1600, elapsed time 261.00 seconds, training accuracy 98.000%\n",
      "step 1700, elapsed time 279.08 seconds, training accuracy 100.000%\n",
      "step 1800, elapsed time 295.36 seconds, training accuracy 98.000%\n",
      "step 1900, elapsed time 311.47 seconds, training accuracy 96.000%\n",
      "step 2000, elapsed time 328.14 seconds, training accuracy 96.000%\n",
      "step 2100, elapsed time 344.37 seconds, training accuracy 98.000%\n",
      "step 2200, elapsed time 360.79 seconds, training accuracy 98.000%\n",
      "step 2300, elapsed time 377.96 seconds, training accuracy 98.000%\n",
      "step 2400, elapsed time 395.25 seconds, training accuracy 100.000%\n",
      "step 2500, elapsed time 411.07 seconds, training accuracy 100.000%\n",
      "step 2600, elapsed time 426.85 seconds, training accuracy 98.000%\n",
      "step 2700, elapsed time 443.13 seconds, training accuracy 100.000%\n",
      "step 2800, elapsed time 459.48 seconds, training accuracy 100.000%\n",
      "step 2900, elapsed time 475.77 seconds, training accuracy 98.000%\n"
     ]
    }
   ],
   "source": [
    "# Train the model\n",
    "import time\n",
    "\n",
    "#  define number of steps and how often we display progress\n",
    "num_steps = 3000\n",
    "display_every = 100\n",
    "\n",
    "# Start timer\n",
    "start_time = time.time()\n",
    "end_time = time.time()\n",
    "\n",
    "for i in range(num_steps):\n",
    "    batch = mnist.train.next_batch(50)\n",
    "    train_step.run(feed_dict={x: batch[0], y_: batch[1], keep_prob: 0.5})\n",
    "\n",
    "    # Periodic status display\n",
    "    if i%display_every == 0:\n",
    "        train_accuracy = accuracy.eval(feed_dict={\n",
    "            x:batch[0], y_: batch[1], keep_prob: 1.0})\n",
    "        end_time = time.time()\n",
    "        print(\"step {0}, elapsed time {1:.2f} seconds, training accuracy {2:.3f}%\".format(i, end_time-start_time, train_accuracy*100.0))"
   ]
  },
  {
   "cell_type": "code",
   "execution_count": 16,
   "metadata": {},
   "outputs": [
    {
     "name": "stdout",
     "output_type": "stream",
     "text": [
      "Total training time for 3000 batches: 491.44 seconds\n"
     ]
    }
   ],
   "source": [
    "# Display summary \n",
    "#     Time to train\n",
    "end_time = time.time()\n",
    "print(\"Total training time for {0} batches: {1:.2f} seconds\".format(i+1, end_time-start_time))"
   ]
  },
  {
   "cell_type": "code",
   "execution_count": 17,
   "metadata": {},
   "outputs": [
    {
     "name": "stdout",
     "output_type": "stream",
     "text": [
      "Test accuracy 98.120%\n"
     ]
    }
   ],
   "source": [
    "#     Accuracy on test data\n",
    "print(\"Test accuracy {0:.3f}%\".format(accuracy.eval(feed_dict={\n",
    "    x: mnist.test.images, y_: mnist.test.labels, keep_prob: 1.0})*100.0))"
   ]
  },
  {
   "cell_type": "code",
   "execution_count": 18,
   "metadata": {},
   "outputs": [],
   "source": [
    "sess.close()"
   ]
  },
  {
   "cell_type": "code",
   "execution_count": null,
   "metadata": {},
   "outputs": [],
   "source": []
  }
 ],
 "metadata": {
  "kernelspec": {
   "display_name": "Python 3",
   "language": "python",
   "name": "python3"
  },
  "language_info": {
   "codemirror_mode": {
    "name": "ipython",
    "version": 3
   },
   "file_extension": ".py",
   "mimetype": "text/x-python",
   "name": "python",
   "nbconvert_exporter": "python",
   "pygments_lexer": "ipython3",
   "version": "3.6.4"
  }
 },
 "nbformat": 4,
 "nbformat_minor": 2
}
